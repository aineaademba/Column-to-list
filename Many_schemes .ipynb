{
 "cells": [
  {
   "cell_type": "code",
   "execution_count": 3,
   "id": "77804794",
   "metadata": {},
   "outputs": [],
   "source": [
    "import pandas as pd\n",
    "\n",
    "# Load data in xlsx format\n",
    "# If your data is in an Excel file, use:\n",
    "df = pd.read_excel('young_saver_data.xlsx')\n"
   ]
  },
  {
   "cell_type": "code",
   "execution_count": 4,
   "id": "fe33d59b",
   "metadata": {},
   "outputs": [
    {
     "data": {
      "text/html": [
       "<div>\n",
       "<style scoped>\n",
       "    .dataframe tbody tr th:only-of-type {\n",
       "        vertical-align: middle;\n",
       "    }\n",
       "\n",
       "    .dataframe tbody tr th {\n",
       "        vertical-align: top;\n",
       "    }\n",
       "\n",
       "    .dataframe thead th {\n",
       "        text-align: right;\n",
       "    }\n",
       "</style>\n",
       "<table border=\"1\" class=\"dataframe\">\n",
       "  <thead>\n",
       "    <tr style=\"text-align: right;\">\n",
       "      <th></th>\n",
       "      <th>CIF_ID</th>\n",
       "      <th>FORACID</th>\n",
       "      <th>ACCT_NAME</th>\n",
       "      <th>Name if Minor</th>\n",
       "      <th>SCHM_DESC</th>\n",
       "      <th>All_scheme_codes</th>\n",
       "      <th>Unnamed: 6</th>\n",
       "      <th>Unnamed: 7</th>\n",
       "      <th>Unnamed: 8</th>\n",
       "      <th>Unnamed: 9</th>\n",
       "      <th>CIF_ID.1</th>\n",
       "      <th>Count of Accounts</th>\n",
       "    </tr>\n",
       "  </thead>\n",
       "  <tbody>\n",
       "    <tr>\n",
       "      <th>0</th>\n",
       "      <td>11625</td>\n",
       "      <td>00400116252501</td>\n",
       "      <td>TANVEER KAUR SIHRA</td>\n",
       "      <td>TANVEER</td>\n",
       "      <td>YOUNG SAVERS - LCY</td>\n",
       "      <td>YOUNG SAVERS - LCY</td>\n",
       "      <td>NaN</td>\n",
       "      <td>NaN</td>\n",
       "      <td>NaN</td>\n",
       "      <td>NaN</td>\n",
       "      <td>11625.0</td>\n",
       "      <td>1.0</td>\n",
       "    </tr>\n",
       "    <tr>\n",
       "      <th>1</th>\n",
       "      <td>15130</td>\n",
       "      <td>00700151302501</td>\n",
       "      <td>CHANDNI MEGHJI HALAI YS/A</td>\n",
       "      <td>CHANDNI</td>\n",
       "      <td>YOUNG SAVERS - LCY</td>\n",
       "      <td>YOUNG SAVERS - LCY</td>\n",
       "      <td>NaN</td>\n",
       "      <td>NaN</td>\n",
       "      <td>NaN</td>\n",
       "      <td>NaN</td>\n",
       "      <td>15130.0</td>\n",
       "      <td>1.0</td>\n",
       "    </tr>\n",
       "    <tr>\n",
       "      <th>2</th>\n",
       "      <td>15455</td>\n",
       "      <td>00700154552501</td>\n",
       "      <td>CAREY IMBAHALA MINOR</td>\n",
       "      <td>CAREY</td>\n",
       "      <td>YOUNG SAVERS - LCY</td>\n",
       "      <td>NaN</td>\n",
       "      <td>NaN</td>\n",
       "      <td>NaN</td>\n",
       "      <td>NaN</td>\n",
       "      <td>NaN</td>\n",
       "      <td>15455.0</td>\n",
       "      <td>1.0</td>\n",
       "    </tr>\n",
       "    <tr>\n",
       "      <th>3</th>\n",
       "      <td>16684</td>\n",
       "      <td>00500166842501</td>\n",
       "      <td>MINOR AKSHAY N SHAH</td>\n",
       "      <td>MINOR</td>\n",
       "      <td>YOUNG SAVERS - LCY</td>\n",
       "      <td>NaN</td>\n",
       "      <td>NaN</td>\n",
       "      <td>NaN</td>\n",
       "      <td>NaN</td>\n",
       "      <td>NaN</td>\n",
       "      <td>16684.0</td>\n",
       "      <td>1.0</td>\n",
       "    </tr>\n",
       "    <tr>\n",
       "      <th>4</th>\n",
       "      <td>16816</td>\n",
       "      <td>00400168162501</td>\n",
       "      <td>RAJWANT KAUR KENTH</td>\n",
       "      <td>RAJWANT</td>\n",
       "      <td>YOUNG SAVERS - LCY</td>\n",
       "      <td>NaN</td>\n",
       "      <td>NaN</td>\n",
       "      <td>NaN</td>\n",
       "      <td>NaN</td>\n",
       "      <td>NaN</td>\n",
       "      <td>16816.0</td>\n",
       "      <td>1.0</td>\n",
       "    </tr>\n",
       "  </tbody>\n",
       "</table>\n",
       "</div>"
      ],
      "text/plain": [
       "   CIF_ID         FORACID                  ACCT_NAME Name if Minor  \\\n",
       "0   11625  00400116252501         TANVEER KAUR SIHRA       TANVEER   \n",
       "1   15130  00700151302501  CHANDNI MEGHJI HALAI YS/A       CHANDNI   \n",
       "2   15455  00700154552501       CAREY IMBAHALA MINOR         CAREY   \n",
       "3   16684  00500166842501        MINOR AKSHAY N SHAH         MINOR   \n",
       "4   16816  00400168162501         RAJWANT KAUR KENTH       RAJWANT   \n",
       "\n",
       "            SCHM_DESC    All_scheme_codes  Unnamed: 6  Unnamed: 7  Unnamed: 8  \\\n",
       "0  YOUNG SAVERS - LCY  YOUNG SAVERS - LCY         NaN         NaN         NaN   \n",
       "1  YOUNG SAVERS - LCY  YOUNG SAVERS - LCY         NaN         NaN         NaN   \n",
       "2  YOUNG SAVERS - LCY                 NaN         NaN         NaN         NaN   \n",
       "3  YOUNG SAVERS - LCY                 NaN         NaN         NaN         NaN   \n",
       "4  YOUNG SAVERS - LCY                 NaN         NaN         NaN         NaN   \n",
       "\n",
       "   Unnamed: 9  CIF_ID.1  Count of Accounts  \n",
       "0         NaN   11625.0                1.0  \n",
       "1         NaN   15130.0                1.0  \n",
       "2         NaN   15455.0                1.0  \n",
       "3         NaN   16684.0                1.0  \n",
       "4         NaN   16816.0                1.0  "
      ]
     },
     "execution_count": 4,
     "metadata": {},
     "output_type": "execute_result"
    }
   ],
   "source": [
    "df.head()"
   ]
  },
  {
   "cell_type": "code",
   "execution_count": 12,
   "id": "03c16069",
   "metadata": {},
   "outputs": [],
   "source": [
    "# Group by CIF_ID and aggregate SCHM_DESC into a list\n",
    "result_df = df.groupby('CIF_ID')['SCHM_DESC'].agg(list).reset_index()\n"
   ]
  },
  {
   "cell_type": "code",
   "execution_count": 15,
   "id": "4108ea75",
   "metadata": {},
   "outputs": [
    {
     "name": "stdout",
     "output_type": "stream",
     "text": [
      "       CIF_ID             SCHM_DESC\n",
      "0       11625  [YOUNG SAVERS - LCY]\n",
      "1       15130  [YOUNG SAVERS - LCY]\n",
      "2       15455  [YOUNG SAVERS - LCY]\n",
      "3       16684  [YOUNG SAVERS - LCY]\n",
      "4       16816  [YOUNG SAVERS - LCY]\n",
      "...       ...                   ...\n",
      "11755  483736  [YOUNG SAVERS - LCY]\n",
      "11756  483907  [YOUNG SAVERS - LCY]\n",
      "11757  483957  [YOUNG SAVERS - LCY]\n",
      "11758  484023  [YOUNG SAVERS - LCY]\n",
      "11759  484094  [YOUNG SAVERS - LCY]\n",
      "\n",
      "[11760 rows x 2 columns]\n"
     ]
    }
   ],
   "source": [
    "print(result_df)\n",
    "# Save DataFrame to Excel file\n",
    "result_df.to_excel('many_schemes.xlsx', engine='openpyxl', index=False)\n"
   ]
  },
  {
   "cell_type": "code",
   "execution_count": 8,
   "id": "be9a9946",
   "metadata": {},
   "outputs": [
    {
     "name": "stdout",
     "output_type": "stream",
     "text": [
      "Descriptions for CIF_ID '11625': []\n"
     ]
    }
   ],
   "source": [
    "# Call the function with CIF_ID\n",
    "cif_id_to_lookup = '11625'\n",
    "descriptions = get_schm_desc(df, cif_id_to_lookup)\n",
    "\n",
    "# Print the results\n",
    "print(f\"Descriptions for CIF_ID '{cif_id_to_lookup}': {descriptions}\")\n"
   ]
  },
  {
   "cell_type": "code",
   "execution_count": 10,
   "id": "a42ee2c5",
   "metadata": {},
   "outputs": [
    {
     "name": "stdout",
     "output_type": "stream",
     "text": [
      "Descriptions for CIF_ID '11625': []\n"
     ]
    }
   ],
   "source": [
    "# Call the function with CIF_ID\n",
    "cif_id_to_lookup = '11625'\n",
    "descriptions = get_schm_desc(df, cif_id_to_lookup)\n",
    "\n",
    "# Print the results\n",
    "print(f\"Descriptions for CIF_ID '{cif_id_to_lookup}': {descriptions}\")\n"
   ]
  },
  {
   "cell_type": "code",
   "execution_count": null,
   "id": "ecf1d1f8",
   "metadata": {},
   "outputs": [],
   "source": []
  }
 ],
 "metadata": {
  "kernelspec": {
   "display_name": "Python 3 (ipykernel)",
   "language": "python",
   "name": "python3"
  },
  "language_info": {
   "codemirror_mode": {
    "name": "ipython",
    "version": 3
   },
   "file_extension": ".py",
   "mimetype": "text/x-python",
   "name": "python",
   "nbconvert_exporter": "python",
   "pygments_lexer": "ipython3",
   "version": "3.11.4"
  }
 },
 "nbformat": 4,
 "nbformat_minor": 5
}
